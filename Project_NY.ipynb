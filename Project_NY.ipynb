{
 "cells": [
  {
   "cell_type": "code",
   "execution_count": 1,
   "id": "4c521ff3-a823-4c1f-ab5f-ae29ddc75e04",
   "metadata": {},
   "outputs": [],
   "source": [
    "# importar librerias\n",
    "import pandas as pd\n",
    "import matplotlib.pyplot as plt\n",
    "import seaborn as sns\n",
    "\n",
    "#cargar datset\n",
    "df = pd.read_csv(\"NY_airbnb.csv\")"
   ]
  },
  {
   "cell_type": "code",
   "execution_count": 5,
   "id": "971b4b8b-d093-4525-9d51-b88f84dd37ac",
   "metadata": {},
   "outputs": [
    {
     "data": {
      "text/plain": [
       "id                                  int64\n",
       "name                               object\n",
       "host_id                             int64\n",
       "host_name                          object\n",
       "neighbourhood_group                object\n",
       "neighbourhood                      object\n",
       "latitude                          float64\n",
       "longitude                         float64\n",
       "room_type                          object\n",
       "price                               int64\n",
       "minimum_nights                      int64\n",
       "number_of_reviews                   int64\n",
       "last_review                        object\n",
       "reviews_per_month                 float64\n",
       "calculated_host_listings_count      int64\n",
       "availability_365                    int64\n",
       "dtype: object"
      ]
     },
     "execution_count": 5,
     "metadata": {},
     "output_type": "execute_result"
    }
   ],
   "source": [
    "df.dtypes"
   ]
  },
  {
   "cell_type": "code",
   "execution_count": 3,
   "id": "0fffada8-ed75-4f03-9bf3-eeaddad9178f",
   "metadata": {
    "tags": []
   },
   "outputs": [
    {
     "ename": "NameError",
     "evalue": "name 'host_id' is not defined",
     "output_type": "error",
     "traceback": [
      "\u001b[0;31m---------------------------------------------------------------------------\u001b[0m",
      "\u001b[0;31mNameError\u001b[0m                                 Traceback (most recent call last)",
      "Input \u001b[0;32mIn [3]\u001b[0m, in \u001b[0;36m<cell line: 3>\u001b[0;34m()\u001b[0m\n\u001b[1;32m      1\u001b[0m \u001b[38;5;66;03m# identificar variables numéricas y categóricas\u001b[39;00m\n\u001b[0;32m----> 3\u001b[0m numericas \u001b[38;5;241m=\u001b[39m [ \u001b[38;5;28mid\u001b[39m, \u001b[43mhost_id\u001b[49m, latitude, longitude, minimun_night, price,number_of_reviews, last_review, review_per_month, calculated_host_listings_count, availability_365]\n\u001b[1;32m      4\u001b[0m categoricas \u001b[38;5;241m=\u001b[39m [name, host_name, neighbourhood_group, neighbourhood, room_type, last_riview]\n",
      "\u001b[0;31mNameError\u001b[0m: name 'host_id' is not defined"
     ]
    }
   ],
   "source": [
    "# identificar variables numéricas y categóricas\n",
    "\n",
    "numericas = [ id, host_id, latitude, longitude, minimun_night, price,number_of_reviews, last_review, review_per_month, calculated_host_listings_count, availability_365]\n",
    "categoricas = [name, host_name, neighbourhood_group, neighbourhood, room_type, last_riview]"
   ]
  },
  {
   "cell_type": "code",
   "execution_count": 4,
   "id": "6c6b4444-977f-43b0-9020-e85e5dfe9960",
   "metadata": {},
   "outputs": [
    {
     "ename": "NameError",
     "evalue": "name 'numericas' is not defined",
     "output_type": "error",
     "traceback": [
      "\u001b[0;31m---------------------------------------------------------------------------\u001b[0m",
      "\u001b[0;31mNameError\u001b[0m                                 Traceback (most recent call last)",
      "Input \u001b[0;32mIn [4]\u001b[0m, in \u001b[0;36m<cell line: 1>\u001b[0;34m()\u001b[0m\n\u001b[0;32m----> 1\u001b[0m df\u001b[38;5;241m.\u001b[39mdescribe(\u001b[43mnumericas\u001b[49m)\n",
      "\u001b[0;31mNameError\u001b[0m: name 'numericas' is not defined"
     ]
    }
   ],
   "source": [
    "df.describe(numericas)"
   ]
  },
  {
   "cell_type": "code",
   "execution_count": null,
   "id": "04a537e4-bb74-42c9-95a6-cc7e1db3159b",
   "metadata": {},
   "outputs": [],
   "source": [
    "df.shape"
   ]
  },
  {
   "cell_type": "code",
   "execution_count": 6,
   "id": "4bf05618-f53d-414a-916f-cf4924269453",
   "metadata": {},
   "outputs": [
    {
     "name": "stdout",
     "output_type": "stream",
     "text": [
      "<class 'pandas.core.frame.DataFrame'>\n",
      "RangeIndex: 48895 entries, 0 to 48894\n",
      "Data columns (total 16 columns):\n",
      " #   Column                          Non-Null Count  Dtype  \n",
      "---  ------                          --------------  -----  \n",
      " 0   id                              48895 non-null  int64  \n",
      " 1   name                            48879 non-null  object \n",
      " 2   host_id                         48895 non-null  int64  \n",
      " 3   host_name                       48874 non-null  object \n",
      " 4   neighbourhood_group             48895 non-null  object \n",
      " 5   neighbourhood                   48895 non-null  object \n",
      " 6   latitude                        48895 non-null  float64\n",
      " 7   longitude                       48895 non-null  float64\n",
      " 8   room_type                       48895 non-null  object \n",
      " 9   price                           48895 non-null  int64  \n",
      " 10  minimum_nights                  48895 non-null  int64  \n",
      " 11  number_of_reviews               48895 non-null  int64  \n",
      " 12  last_review                     38843 non-null  object \n",
      " 13  reviews_per_month               38843 non-null  float64\n",
      " 14  calculated_host_listings_count  48895 non-null  int64  \n",
      " 15  availability_365                48895 non-null  int64  \n",
      "dtypes: float64(3), int64(7), object(6)\n",
      "memory usage: 6.0+ MB\n"
     ]
    }
   ],
   "source": [
    "df.info()"
   ]
  },
  {
   "cell_type": "code",
   "execution_count": null,
   "id": "a975bbb0-0d50-4fa1-a15a-dc3259042b12",
   "metadata": {},
   "outputs": [],
   "source": [
    "df.describe()"
   ]
  },
  {
   "cell_type": "code",
   "execution_count": null,
   "id": "9f052315-ef5d-41b8-b178-2d9d5642db9e",
   "metadata": {},
   "outputs": [],
   "source": []
  }
 ],
 "metadata": {
  "kernelspec": {
   "display_name": "Python 3 (ipykernel)",
   "language": "python",
   "name": "python3"
  },
  "language_info": {
   "codemirror_mode": {
    "name": "ipython",
    "version": 3
   },
   "file_extension": ".py",
   "mimetype": "text/x-python",
   "name": "python",
   "nbconvert_exporter": "python",
   "pygments_lexer": "ipython3",
   "version": "3.10.4"
  }
 },
 "nbformat": 4,
 "nbformat_minor": 5
}
