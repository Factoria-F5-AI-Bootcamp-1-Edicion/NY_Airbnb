{
 "cells": [
  {
   "cell_type": "markdown",
   "id": "7d9c8f3f-8604-43ce-9be8-866fd5f4e736",
   "metadata": {},
   "source": [
    "# Importación de librerías"
   ]
  },
  {
   "cell_type": "code",
   "execution_count": 268,
   "id": "4c521ff3-a823-4c1f-ab5f-ae29ddc75e04",
   "metadata": {},
   "outputs": [],
   "source": [
    "import pandas as pd\n",
    "import matplotlib.pyplot as plt\n",
    "import seaborn as sns\n"
   ]
  },
  {
   "cell_type": "markdown",
   "id": "1947464b-1407-49f7-8f43-ccea9626b07c",
   "metadata": {},
   "source": [
    "# Exploración básica de datos"
   ]
  },
  {
   "cell_type": "markdown",
   "id": "99458676-30f1-4c55-bd1d-eececda4bef3",
   "metadata": {
    "tags": []
   },
   "source": [
    "#### id: identificador del alojamiento\n",
    "#### name: caraterísticas del alojamiento\n",
    "#### host_i: identificador del hospedador\n",
    "#### host_name: nombre del hospedador\n",
    "#### neighbourhood_group: nombre del Borough (distrito)\n",
    "#### neighbourhood: vecindario\n",
    "#### latitude: latitud\n",
    "#### longitude: longitud\n",
    "#### room_type: tipo de alojamiento\n",
    "#### price: precio por noche\n",
    "#### minimum_nights: mínimo de noches\n",
    "#### number_of_reviews: número de visitas\n",
    "#### last_review: última visitas\n",
    "#### reviews_per_month: visitas por mes\n",
    "#### calculated_host_listings_count: cantidad de huespedes aceptados\n",
    "#### availability_365: disponibilidad durante el año"
   ]
  },
  {
   "cell_type": "code",
   "execution_count": 269,
   "id": "e8ff9018-58c7-4a01-9e6b-b1e7af473c87",
   "metadata": {},
   "outputs": [
    {
     "ename": "AttributeError",
     "evalue": "'list' object has no attribute 'head'",
     "output_type": "error",
     "traceback": [
      "\u001b[1;31m---------------------------------------------------------------------------\u001b[0m",
      "\u001b[1;31mAttributeError\u001b[0m                            Traceback (most recent call last)",
      "Input \u001b[1;32mIn [269]\u001b[0m, in \u001b[0;36m<cell line: 3>\u001b[1;34m()\u001b[0m\n\u001b[0;32m      1\u001b[0m \u001b[38;5;66;03m# Ver las primeras cinco entradas\u001b[39;00m\n\u001b[1;32m----> 3\u001b[0m \u001b[43mdf\u001b[49m\u001b[38;5;241;43m.\u001b[39;49m\u001b[43mhead\u001b[49m()\n",
      "\u001b[1;31mAttributeError\u001b[0m: 'list' object has no attribute 'head'"
     ]
    }
   ],
   "source": [
    "# Ver las primeras cinco entradas\n",
    "\n",
    "df.head()"
   ]
  },
  {
   "cell_type": "code",
   "execution_count": null,
   "id": "04a537e4-bb74-42c9-95a6-cc7e1db3159b",
   "metadata": {},
   "outputs": [],
   "source": [
    "# Ver el total de filas y columnas\n",
    "\n",
    "df.shape"
   ]
  },
  {
   "cell_type": "code",
   "execution_count": null,
   "id": "4bf05618-f53d-414a-916f-cf4924269453",
   "metadata": {},
   "outputs": [],
   "source": [
    "# Información sobre el dataset\n",
    "\n",
    "df.info()"
   ]
  },
  {
   "cell_type": "code",
   "execution_count": null,
   "id": "40e55292-45a6-41ef-9a92-1a40348a83f1",
   "metadata": {},
   "outputs": [],
   "source": [
    "df.dtypes"
   ]
  },
  {
   "cell_type": "code",
   "execution_count": null,
   "id": "c0d22f4b-c676-48c6-a6b9-095f2248444f",
   "metadata": {},
   "outputs": [],
   "source": [
    "# Total de datos perdidos\n",
    "\n",
    "df.isnull().sum(axis =0)"
   ]
  },
  {
   "cell_type": "markdown",
   "id": "576e6183-6305-4177-97d4-30ac55434476",
   "metadata": {},
   "source": [
    "## Los datos faltantes de las columnas \"name\", \"host_name\", \"review_per_month\" y \"number_of_review\", por sus características propias, carecen de relevancia para el análisis requerido"
   ]
  },
  {
   "cell_type": "code",
   "execution_count": null,
   "id": "9571defc-ae3f-4c24-90b7-8bb4e2039ed1",
   "metadata": {
    "tags": []
   },
   "outputs": [],
   "source": [
    "# Verificación de la existencia de datos duplicados\n",
    "\n",
    "df.duplicated().sum()"
   ]
  },
  {
   "cell_type": "code",
   "execution_count": null,
   "id": "e05048b7-680e-4e48-b938-31fa988b836f",
   "metadata": {},
   "outputs": [],
   "source": [
    "# Lista de los 5 Boroughs de NYC\n",
    "\n",
    "df.neighbourhood_group.unique()"
   ]
  },
  {
   "cell_type": "code",
   "execution_count": null,
   "id": "2976c7aa-7ca8-4ab6-b21f-bab39dd7a90d",
   "metadata": {
    "tags": []
   },
   "outputs": [],
   "source": [
    "# Con groupby hemos agrupado la información de los 5 Boroughs con el fin de consolidar los datos y visualizar la concentración de la oferta \n",
    "\n",
    "df.groupby(\"neighbourhood_group\")[\"neighbourhood_group\"].count()"
   ]
  },
  {
   "cell_type": "code",
   "execution_count": null,
   "id": "cb964e9c-3f78-4d91-88c4-5590d3ce7a57",
   "metadata": {
    "tags": []
   },
   "outputs": [],
   "source": [
    "# Total de vecindarios listados en los cinco Boroughs\n",
    "\n",
    "len(df.neighbourhood.unique())"
   ]
  },
  {
   "cell_type": "code",
   "execution_count": null,
   "id": "b249c9ed-c390-4f69-ad71-dc139e23af22",
   "metadata": {},
   "outputs": [],
   "source": [
    "# Listado del total de vecindarios\n",
    "\n",
    "df.neighbourhood.unique()"
   ]
  },
  {
   "cell_type": "code",
   "execution_count": null,
   "id": "9ea0f218-2d47-410e-a8a8-7c4dc59521cf",
   "metadata": {
    "tags": []
   },
   "outputs": [],
   "source": [
    "# Los 15 vecindarios con mayor concentración de demanda de alojamiento\n",
    "\n",
    "df.neighbourhood.value_counts().head(15)"
   ]
  },
  {
   "cell_type": "code",
   "execution_count": null,
   "id": "de588fec-9bfe-44f8-8c0d-e6c16893a97f",
   "metadata": {
    "tags": []
   },
   "outputs": [],
   "source": [
    "# Los quince principales propietarios de alojamientos vacacionales en los 5 Boroughs de NYC\n",
    "\n",
    "top_host=df.host_id.value_counts().head(15)\n",
    "top_host"
   ]
  },
  {
   "cell_type": "code",
   "execution_count": null,
   "id": "28e99cdb-749a-4761-b1c4-ae9385663a41",
   "metadata": {},
   "outputs": [],
   "source": [
    "# Confirmación del propietrio con más oferta listada para alquiler vacacional\n",
    "\n",
    "top_host_check=df.calculated_host_listings_count.max()\n",
    "top_host_check"
   ]
  },
  {
   "cell_type": "code",
   "execution_count": null,
   "id": "73100ab3-44f0-4a8d-874f-aa8b1015b71f",
   "metadata": {},
   "outputs": [],
   "source": [
    "top_host_check=df.calculated_host_listings_count.min()\n",
    "top_host_check"
   ]
  },
  {
   "cell_type": "code",
   "execution_count": null,
   "id": "c71e9372-3104-45b3-aa0a-c27fcc4dada2",
   "metadata": {},
   "outputs": [],
   "source": [
    "# Total de la oferta por tipo de alojamiento\n",
    "\n",
    "df.groupby(\"room_type\")[\"room_type\"].count()"
   ]
  },
  {
   "cell_type": "code",
   "execution_count": null,
   "id": "2dbad25b-9bbf-45c4-a2dd-593b580594bb",
   "metadata": {},
   "outputs": [],
   "source": [
    "# Media del precio por noche en los 5 Boroughs de NYC\n",
    "\n",
    "df.groupby('neighbourhood_group')['price'].mean()"
   ]
  },
  {
   "cell_type": "code",
   "execution_count": null,
   "id": "425c1623-b657-4f2f-8ecb-8e983560500f",
   "metadata": {},
   "outputs": [],
   "source": [
    "# Distribución por tipo de alojamiento y las distintas variables estadísticas del precio por cada uno los 5 Boroughs de NYC\n",
    "\n",
    "df.groupby(['neighbourhood_group', 'room_type'])['price'].agg(['count', 'min', 'max', 'mean' ,'median', 'std'])"
   ]
  },
  {
   "cell_type": "code",
   "execution_count": null,
   "id": "3bf33e88-549e-43c4-9a09-cc72979d44ca",
   "metadata": {},
   "outputs": [],
   "source": [
    "# Listado del precio máximo y mínimo en los 5 Boroughs de NYC\n",
    "\n",
    "df.groupby('neighbourhood_group')['price'].agg(['min', 'max'])"
   ]
  },
  {
   "cell_type": "code",
   "execution_count": null,
   "id": "246e0f82-1c12-44f8-bfec-3c41d3a3b8e9",
   "metadata": {},
   "outputs": [],
   "source": []
  },
  {
   "cell_type": "code",
   "execution_count": null,
   "id": "52b8b4b7-5c2f-4d44-bda6-52db06890ab7",
   "metadata": {},
   "outputs": [],
   "source": [
    "# Descarte de columnas \n",
    "\n",
    "df.drop(['id', \"name\", \"minimum_nights\", \"number_of_reviews\", \"last_review\", \"reviews_per_month\", \"calculated_host_listings_count\" ], axis=1)"
   ]
  },
  {
   "cell_type": "code",
   "execution_count": null,
   "id": "3ba056ce-e0bc-4972-a62b-3910af985746",
   "metadata": {},
   "outputs": [],
   "source": [
    "df1 = df[[\"neighbourhood_group\", \"neighbourhood\", \"room_type\", \"price\", \"availability_365\" ]]\n",
    "\n",
    "df1"
   ]
  },
  {
   "cell_type": "code",
   "execution_count": null,
   "id": "db2c7c40-1d78-4457-8232-0dad6c99899b",
   "metadata": {},
   "outputs": [],
   "source": [
    "df2 = df [[\"neighbourhood_group\", \"neighbourhood\", \"room_type\", \"price\"]]\n",
    "\n",
    "df2"
   ]
  },
  {
   "cell_type": "code",
   "execution_count": null,
   "id": "561c1eaf-ca20-4bb3-94ad-be0402c2e741",
   "metadata": {},
   "outputs": [],
   "source": [
    "df3 = df [[\"neighbourhood_group\", \"neighbourhood\", \"room_type\"]]\n",
    "\n",
    "df3"
   ]
  },
  {
   "cell_type": "code",
   "execution_count": null,
   "id": "16f35190-3b0a-43ff-9c2e-2a77929dbf60",
   "metadata": {},
   "outputs": [],
   "source": [
    "# Gráfica de los vecindarios más demandados\n",
    "\n",
    "top_15 = df.neighbourhood.value_counts().head(15)\n",
    "plt.figure(figsize=(8, 4))\n",
    "x = list(top_10.index)\n",
    "y = list(top_10.values)\n",
    "x.reverse()\n",
    "y.reverse()\n",
    "\n",
    "plt.title('Neighbourhoods más demandados', size=20)\n",
    "plt.ylabel('Number of hosts in this area')\n",
    "plt.xlabel('Neighbourhood Area ')\n",
    "plt.xticks( rotation='vertical', size=10)\n",
    "\n",
    "plt.bar(x, y , color='blue')"
   ]
  },
  {
   "cell_type": "code",
   "execution_count": null,
   "id": "b455d73f-6a02-4882-b576-329acbd162ae",
   "metadata": {
    "tags": []
   },
   "outputs": [],
   "source": [
    "# Visualización de los quince principales propietarios de alojamientos vacacionales en los 5 Boroughs de NYC\n",
    "\n",
    "sns.set(rc={'figure.figsize':(15,10)})\n",
    "v1=top_host.plot(kind='bar')\n",
    "v1.set_title('The 15 hosts with the most listings in NYC')\n",
    "v1.set_ylabel('Count of listings')\n",
    "v1.set_xlabel('Host IDs')\n",
    "v1.set_xticklabels(viz_1.get_xticklabels(), rotation=30)"
   ]
  },
  {
   "cell_type": "code",
   "execution_count": null,
   "id": "4a355b62-07c9-4ae9-afbb-5ebaa616ef7b",
   "metadata": {},
   "outputs": [],
   "source": [
    "# En los siguientes gráficos observamos los princpales tipos de alojamiento en los 15 vecindarios más demandados.\n",
    "# La mayoría de los alojamientos más demandados se ubican en Manhattan y Brooklyn, siendo el home/apt la principal opción.\n",
    "\n",
    "\n",
    "s1=df.loc[df['neighbourhood'].isin(['Williamsburg','Bedford-Stuyvesant','Harlem','Bushwick',\n",
    "                 'Upper West Side','Hell\\'s Kitchen','East Village','Upper East Side','Crown Heights','Midtown', 'East Harlem', 'Greenpoint', 'Lower East Side', 'Astoria'])]\n",
    "\n",
    "v2=sns.catplot(x='neighbourhood', hue='neighbourhood_group', col='room_type', data=s1, kind='count')\n",
    "v2.set_xticklabels(rotation=90)"
   ]
  },
  {
   "cell_type": "code",
   "execution_count": null,
   "id": "53135190-181f-4389-9aaf-c79bf629bb8d",
   "metadata": {
    "tags": []
   },
   "outputs": [],
   "source": [
    "# Visualización de outliers con los precios promedios en los 5 Boroughs de NYC\n",
    "\n",
    "red_square = dict(markerfacecolor='blue', markeredgecolor='blue', marker='.')\n",
    "df.boxplot(column='price', by='neighbourhood_group', \n",
    "           flierprops=red_square, vert=False, figsize=(13,8))\n",
    "plt.xlabel('\\nMedian Price\\n', fontsize=20)\n",
    "plt.ylabel('\\nDistrict\\n', fontsize=20)\n",
    "plt.title('\\nPrecios por neighbourhood\\n', fontsize=20, fontweight='bold')\n",
    "plt.suptitle('')"
   ]
  },
  {
   "cell_type": "code",
   "execution_count": null,
   "id": "e5f641c1-415e-4452-9842-58b9a2dd63d1",
   "metadata": {},
   "outputs": [],
   "source": [
    "# Se han descartado los alojamientos con valor superior a $500  \n",
    "\n",
    "s2=df[df.price < 500] \n",
    "v3=sns.violinplot(data=s2, x='neighbourhood_group', y='price')\n",
    "v3.set_title('Distribución de precios por neighbourhood')"
   ]
  },
  {
   "cell_type": "code",
   "execution_count": 271,
   "id": "d91150ce-9169-4e21-8782-10434480ce5a",
   "metadata": {},
   "outputs": [
    {
     "ename": "AttributeError",
     "evalue": "'list' object has no attribute 'plot'",
     "output_type": "error",
     "traceback": [
      "\u001b[1;31m---------------------------------------------------------------------------\u001b[0m",
      "\u001b[1;31mAttributeError\u001b[0m                            Traceback (most recent call last)",
      "Input \u001b[1;32mIn [271]\u001b[0m, in \u001b[0;36m<cell line: 3>\u001b[1;34m()\u001b[0m\n\u001b[0;32m      1\u001b[0m \u001b[38;5;66;03m# En la siguiente visualización podemos observar la distribución y concentración de la oferta de alojamiento en NYC\u001b[39;00m\n\u001b[1;32m----> 3\u001b[0m v4\u001b[38;5;241m=\u001b[39m\u001b[43mdf\u001b[49m\u001b[38;5;241;43m.\u001b[39;49m\u001b[43mplot\u001b[49m(kind\u001b[38;5;241m=\u001b[39m\u001b[38;5;124m'\u001b[39m\u001b[38;5;124mscatter\u001b[39m\u001b[38;5;124m'\u001b[39m, x\u001b[38;5;241m=\u001b[39m\u001b[38;5;124m'\u001b[39m\u001b[38;5;124mlongitude\u001b[39m\u001b[38;5;124m'\u001b[39m, y\u001b[38;5;241m=\u001b[39m\u001b[38;5;124m'\u001b[39m\u001b[38;5;124mlatitude\u001b[39m\u001b[38;5;124m'\u001b[39m, label\u001b[38;5;241m=\u001b[39m\u001b[38;5;124m'\u001b[39m\u001b[38;5;124mavailability_365\u001b[39m\u001b[38;5;124m'\u001b[39m, c\u001b[38;5;241m=\u001b[39m\u001b[38;5;124m'\u001b[39m\u001b[38;5;124mprice\u001b[39m\u001b[38;5;124m'\u001b[39m,\n\u001b[0;32m      4\u001b[0m                   cmap\u001b[38;5;241m=\u001b[39mplt\u001b[38;5;241m.\u001b[39mget_cmap(\u001b[38;5;124m'\u001b[39m\u001b[38;5;124mjet\u001b[39m\u001b[38;5;124m'\u001b[39m), colorbar\u001b[38;5;241m=\u001b[39m\u001b[38;5;28;01mTrue\u001b[39;00m, alpha\u001b[38;5;241m=\u001b[39m\u001b[38;5;241m0.4\u001b[39m, figsize\u001b[38;5;241m=\u001b[39m(\u001b[38;5;241m15\u001b[39m,\u001b[38;5;241m8\u001b[39m))\n\u001b[0;32m      5\u001b[0m v4\u001b[38;5;241m.\u001b[39mlegend()\n\u001b[0;32m      6\u001b[0m v4\u001b[38;5;241m.\u001b[39mset_title(\u001b[38;5;124m'\u001b[39m\u001b[38;5;124mDistribución y concentración de la oferta de alojamiento en NYC\u001b[39m\u001b[38;5;124m'\u001b[39m)\n",
      "\u001b[1;31mAttributeError\u001b[0m: 'list' object has no attribute 'plot'"
     ]
    }
   ],
   "source": [
    "# En la siguiente visualización podemos observar la distribución y concentración de la oferta de alojamiento en NYC\n",
    "\n",
    "v4=df.plot(kind='scatter', x='longitude', y='latitude', label='availability_365', c='price',\n",
    "                  cmap=plt.get_cmap('jet'), colorbar=True, alpha=0.4, figsize=(15,8))\n",
    "v4.legend()\n",
    "v4.set_title('Distribución y concentración de la oferta de alojamiento en NYC')"
   ]
  },
  {
   "cell_type": "code",
   "execution_count": null,
   "id": "fcbf0898-df89-4291-b3aa-0b889749461e",
   "metadata": {},
   "outputs": [],
   "source": []
  },
  {
   "cell_type": "code",
   "execution_count": null,
   "id": "07ebc7b1-e1c5-4383-811a-bd7cff96c141",
   "metadata": {},
   "outputs": [],
   "source": []
  },
  {
   "cell_type": "code",
   "execution_count": 270,
   "id": "e07e5e18-187b-4b64-aaf2-d2ae2ca7cbdc",
   "metadata": {},
   "outputs": [
    {
     "ename": "AttributeError",
     "evalue": "'list' object has no attribute 'host_id'",
     "output_type": "error",
     "traceback": [
      "\u001b[1;31m---------------------------------------------------------------------------\u001b[0m",
      "\u001b[1;31mAttributeError\u001b[0m                            Traceback (most recent call last)",
      "Input \u001b[1;32mIn [270]\u001b[0m, in \u001b[0;36m<cell line: 1>\u001b[1;34m()\u001b[0m\n\u001b[1;32m----> 1\u001b[0m \u001b[43mdf\u001b[49m\u001b[38;5;241;43m.\u001b[39;49m\u001b[43mhost_id\u001b[49m\u001b[38;5;241m.\u001b[39munique()\n",
      "\u001b[1;31mAttributeError\u001b[0m: 'list' object has no attribute 'host_id'"
     ]
    }
   ],
   "source": [
    "df.host_id.unique()"
   ]
  },
  {
   "cell_type": "code",
   "execution_count": null,
   "id": "e9c574cb-9e70-461d-9686-059ba2a94215",
   "metadata": {},
   "outputs": [],
   "source": []
  },
  {
   "cell_type": "code",
   "execution_count": null,
   "id": "2e7b73d6-3ea9-48ae-a547-9100fc80fd4e",
   "metadata": {},
   "outputs": [],
   "source": [
    "df['host_id'].value_counts(219517861)\n",
    "df['host_id'].unique()"
   ]
  },
  {
   "cell_type": "code",
   "execution_count": null,
   "id": "0dfc6ef6-0a58-4077-b852-e2e0c61d4f1f",
   "metadata": {},
   "outputs": [],
   "source": []
  },
  {
   "cell_type": "code",
   "execution_count": null,
   "id": "ef5b03f1-17b8-441b-b590-e436561825b2",
   "metadata": {},
   "outputs": [],
   "source": [
    "select_host_id = df.loc[df['host_id'] == '219517861']\n",
    "print ()"
   ]
  },
  {
   "cell_type": "code",
   "execution_count": null,
   "id": "f65817bb-0e70-491d-8ae7-c61ef4bd718b",
   "metadata": {},
   "outputs": [],
   "source": [
    "import re\n",
    "\n",
    "\n",
    "sentence = 'Extract 219517861 , 107434423 and 30283594 from this string'\n",
    "df = [float(s) for s in re.findall(r'-?\\d+\\.?\\d*', sentence)]\n",
    "print(df)"
   ]
  },
  {
   "cell_type": "code",
   "execution_count": null,
   "id": "19261eca-d117-4d12-af44-848a765651c6",
   "metadata": {},
   "outputs": [],
   "source": []
  },
  {
   "cell_type": "code",
   "execution_count": null,
   "id": "36667ca9-a7e4-4bec-aa54-5f042c31fd26",
   "metadata": {},
   "outputs": [],
   "source": [
    "df ['host_id']['219517861']"
   ]
  },
  {
   "cell_type": "code",
   "execution_count": null,
   "id": "7728c5dd-8955-48fb-a943-cdbfa8ffb6e3",
   "metadata": {},
   "outputs": [],
   "source": [
    "s['219517861']"
   ]
  },
  {
   "cell_type": "code",
   "execution_count": null,
   "id": "ea4881ac-ca91-46c9-84cb-b322d93d8c2e",
   "metadata": {},
   "outputs": [],
   "source": [
    "df.loc[host_id,'rnd_1']"
   ]
  },
  {
   "cell_type": "code",
   "execution_count": null,
   "id": "5ce6ab7a-b056-44d1-be34-bc74d56ce2b5",
   "metadata": {},
   "outputs": [],
   "source": [
    "all_data.loc['219517861']"
   ]
  },
  {
   "cell_type": "code",
   "execution_count": null,
   "id": "e4c3fc1a-6aae-4683-a9e9-3a525530106b",
   "metadata": {},
   "outputs": [],
   "source": []
  }
 ],
 "metadata": {
  "kernelspec": {
   "display_name": "Python 3 (ipykernel)",
   "language": "python",
   "name": "python3"
  },
  "language_info": {
   "codemirror_mode": {
    "name": "ipython",
    "version": 3
   },
   "file_extension": ".py",
   "mimetype": "text/x-python",
   "name": "python",
   "nbconvert_exporter": "python",
   "pygments_lexer": "ipython3",
   "version": "3.9.12"
  }
 },
 "nbformat": 4,
 "nbformat_minor": 5
}
